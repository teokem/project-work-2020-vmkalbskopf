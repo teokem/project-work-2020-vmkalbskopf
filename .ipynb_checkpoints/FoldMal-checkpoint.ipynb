{
 "cells": [
  {
   "cell_type": "markdown",
   "metadata": {},
   "source": [
    "## Analysing the distribution of Avian Malaria differential expression fold data\n",
    "This notebook describes my analysis of differential expression data from birds infected with avian malaria. The primary analysis involved library normalisation, outlier detection, and testing for differences of expression for each gene. This was done by two R packages in an earlier process. The purpose of this analysis is to see if the parasite tends to make large or small differences to it's gene expression and understand the distribution. "
   ]
  },
  {
   "cell_type": "code",
   "execution_count": null,
   "metadata": {},
   "outputs": [],
   "source": [
    "import numpy as np\n",
    "import pandas as pd\n",
    "import matplotlib.pyplot as plt\n",
    "import seaborn as sns\n",
    "\n",
    "raw_df = pd.read_csv('raw_data/D20vsD8.complete.txt', sep='\\t')\n",
    "print('number of records: ', len(raw_df))\n",
    "raw_df.head(n=10)\n"
   ]
  },
  {
   "cell_type": "markdown",
   "metadata": {},
   "source": [
    "raw_df is a dataframe of the gene expression for 5305 genes (`Id` column) from 9 samples. Gene expression is an integer count of how many times a particular gene was detected in a sample.\n",
    "The stats we're interested in are the `log2Fold change` and the pvalue that has been adjusted for multiple testing - `padj`.\n",
    "The expression level was measured using RNA sequencing at 2 time points (D8 or D20) in 9 birds (B 1 - 9).\n",
    "The fold change in expression compares the normalised expression (will not explain that process here, as the data is already normalised) between samples from day 8 and day 20. Day 8 is the reference condition, so for the first gene, the samples from day 20 had 0.444 log2 times less expression than the day 8 samples. "
   ]
  },
  {
   "cell_type": "markdown",
   "metadata": {},
   "source": [
    "I see that there are quite a few NaNs. I'm most concerned about the genes without any `log2FoldChange` values, as these genes likely had no expression in any of the samples, so they can be removed from the data set."
   ]
  },
  {
   "cell_type": "code",
   "execution_count": null,
   "metadata": {},
   "outputs": [],
   "source": [
    "df = raw_df[raw_df['log2FoldChange'].notna()]\n",
    "print('number of records: ', len(df))\n",
    "df.head(n=10)\n"
   ]
  },
  {
   "cell_type": "markdown",
   "metadata": {},
   "source": [
    "Just in the top 10, a fair number of records do not have `padj`values."
   ]
  },
  {
   "cell_type": "code",
   "execution_count": null,
   "metadata": {},
   "outputs": [],
   "source": [
    "print('number of non-valid adjusted p-values: ', len(df[df['padj'].isna()]))"
   ]
  },
  {
   "cell_type": "markdown",
   "metadata": {},
   "source": [
    "This may or may not be a problem later. But let's procede with the analysis, the distribution of fold changes in expression.\n"
   ]
  },
  {
   "cell_type": "code",
   "execution_count": null,
   "metadata": {},
   "outputs": [],
   "source": [
    "import os.path\n",
    "if not os.path.exists('figures'):\n",
    "    !mkdir figures\n"
   ]
  },
  {
   "cell_type": "code",
   "execution_count": null,
   "metadata": {},
   "outputs": [],
   "source": [
    "sns.distplot(df['log2FoldChange'], kde=False, color='red')\n",
    "plt.ylabel('Frequency', fontsize=13)\n",
    "plt.title('Histogram of log2 fold change')\n",
    "plt.savefig('figures/log2foldchange.pdf')"
   ]
  },
  {
   "cell_type": "markdown",
   "metadata": {},
   "source": [
    "Well that was easier than expected!\n",
    "After a chat with my supervisor, we wanted to see where the significantly differentially expressed (SDE) genes lie on this distribution.\n"
   ]
  },
  {
   "cell_type": "code",
   "execution_count": null,
   "metadata": {},
   "outputs": [],
   "source": [
    "sigGenes = df[df['padj']<=0.05]\n",
    "sigGenes"
   ]
  },
  {
   "cell_type": "markdown",
   "metadata": {},
   "source": [
    "We only have 19 SDE genes.\n",
    "I'll plot their 'distribution'."
   ]
  },
  {
   "cell_type": "code",
   "execution_count": null,
   "metadata": {},
   "outputs": [],
   "source": [
    "sns.distplot(sigGenes['log2FoldChange'],bins = 10, kde=False, color='blue')\n",
    "plt.savefig('figures/sigGenes_hist.pdf')"
   ]
  },
  {
   "cell_type": "markdown",
   "metadata": {},
   "source": [
    "I would like to overlay these SDE genes over my original ditribution plot. To do so, I will try make this histogram have the same number of bins and range. \n",
    "distplot automatically calculates the number of bins required using the [Freedman Dioaconis rule]\n",
    "(https://en.wikipedia.org/wiki/Freedman%E2%80%93Diaconis_rule). \n",
    "\n",
    "$$\\text{Bin width}=2\\, { \\text{IQR}(x) \\over{  \\sqrt[3]{n}  }}$$\n",
    "\n",
    "IQR = Inter Quartile Range\n",
    "\n",
    "*n* = Number of observations\n",
    "\n",
    "[This stackoverflow answer](https://stackoverflow.com/questions/57458789/get-bin-width-used-for-seaborn-plot) shows how to calculate it using the *Freedman Diaconis rule*.  "
   ]
  },
  {
   "cell_type": "code",
   "execution_count": null,
   "metadata": {},
   "outputs": [],
   "source": [
    "fc = df['log2FoldChange']\n",
    "Q1 = np.quantile(fc, 0.25)\n",
    "Q3 = np.quantile(fc, 0.75)\n",
    "IQR = Q3 - Q1\n",
    "denominator = np.cbrt(len(fc))\n",
    "binWidth = 2*(IQR/denominator)\n",
    "binWidth\n"
   ]
  },
  {
   "cell_type": "markdown",
   "metadata": {},
   "source": [
    "That is the bin width. To calculate the number of bins, we divide the range of the distribution by the bin width. So I need to get the max and min fold change to get the range."
   ]
  },
  {
   "cell_type": "code",
   "execution_count": null,
   "metadata": {},
   "outputs": [],
   "source": [
    "fcRange = max(fc) - min(fc)\n",
    "print('range of fold change is: ' , fcRange)"
   ]
  },
  {
   "cell_type": "markdown",
   "metadata": {},
   "source": [
    "That number makes sense when I look at the graph.  And now, the number of bins:"
   ]
  },
  {
   "cell_type": "code",
   "execution_count": null,
   "metadata": {},
   "outputs": [],
   "source": [
    "n_bins = fcRange/binWidth\n",
    "n_bins"
   ]
  },
  {
   "cell_type": "markdown",
   "metadata": {},
   "source": [
    "So it's either 123 or 124. I will test both and see if there is a difference. But looking at the histogram above, I doubt there are really over 100 bins..."
   ]
  },
  {
   "cell_type": "code",
   "execution_count": null,
   "metadata": {},
   "outputs": [],
   "source": [
    "sns.distplot(df['log2FoldChange'], kde=False, color='red', bins=123)"
   ]
  },
  {
   "cell_type": "code",
   "execution_count": null,
   "metadata": {},
   "outputs": [],
   "source": [
    "sns.distplot(df['log2FoldChange'], kde=False, color='red', bins=124)"
   ]
  },
  {
   "cell_type": "markdown",
   "metadata": {},
   "source": [
    "Well.... They look very different from the automatically generated plot. That one used far fewer bins. In this case, and I don't know why I didn't think of this sooner, I will simply specify it manually."
   ]
  },
  {
   "cell_type": "code",
   "execution_count": null,
   "metadata": {},
   "outputs": [],
   "source": [
    "fig, ax = plt.subplots(figsize=(7.2,4.5))\n",
    "\n",
    "\n",
    "sns.distplot(sigGenes['log2FoldChange'],bins = 123, kde=False, color='blue', ax=ax)\n",
    "sns.distplot(df['log2FoldChange'], kde=False, color='red', bins=123, ax=ax)\n",
    "plt.ylabel('Frequency', fontsize=13)\n",
    "plt.title('Histogram of log2 fold change')\n",
    "plt.savefig('figures/log2foldchange_with_sigGenes.pdf')"
   ]
  },
  {
   "cell_type": "markdown",
   "metadata": {},
   "source": [
    "You can see the small blue bars at the bottom of the graph (which is why I made this one so big). Perhaps a log y scale will help."
   ]
  },
  {
   "cell_type": "code",
   "execution_count": null,
   "metadata": {},
   "outputs": [],
   "source": [
    "fig, ax = plt.subplots(figsize=(7.2,4.5))\n",
    "fig.axes[0].set_yscale('log')\n",
    "\n",
    "sns.distplot(sigGenes['log2FoldChange'],bins = 123, kde=False, color='blue', ax=ax)\n",
    "sns.distplot(df['log2FoldChange'], kde=False, color='red', bins=123, ax=ax)\n",
    "\n",
    "plt.ylabel('Log(Frequency)', fontsize=15)\n",
    "plt.xlabel('log2FoldChange', fontsize=15)\n",
    "plt.title('Histogram of log2 fold change with significant genes in blue',fontsize=15)\n",
    "plt.savefig('figures/log2foldchange_with_sigGenes_in_logscale.pdf')"
   ]
  },
  {
   "cell_type": "markdown",
   "metadata": {},
   "source": [
    "The SDE genes clearly 'avoid' small differences in expression between time points, but this makes sense when you think what consistutes significance. The gene in question would require low variation within a time point across biological replicates for a small mean difference between time points to be considered significant. \n",
    "Other than that trivial pattern, the SDE genes appear to be uniformally distributed along the log2 fold change range.\n",
    "Perhaps the log2 transformation is hiding something? Let's see!"
   ]
  },
  {
   "cell_type": "code",
   "execution_count": null,
   "metadata": {
    "scrolled": true
   },
   "outputs": [],
   "source": [
    "fig, ax = plt.subplots(figsize=(7.2,4.5))\n",
    "fig.axes[0].set_yscale('log')\n",
    "\n",
    "sns.distplot(sigGenes['FoldChange'],bins = 123, kde=False, color='blue', ax=ax)\n",
    "sns.distplot(df['FoldChange'], kde=False, color='red', bins=123, ax=ax)\n",
    "plt.ylabel('Log(Frequency)', fontsize=15)\n",
    "plt.xlabel('Fold Change', fontsize=15)\n",
    "plt.title('Histogram of fold change with significant genes in blue')\n",
    "plt.savefig('figures/fold_change_with_sigGenes_in_logscale.pdf')"
   ]
  },
  {
   "cell_type": "markdown",
   "metadata": {},
   "source": [
    "The lack of transformation did not seem to help."
   ]
  },
  {
   "cell_type": "markdown",
   "metadata": {},
   "source": [
    "# Conclusion\n",
    "In this analysis, we see what looks like a negative binomial distribution, which is generally expected for RNA-seq data. However, the fact that we see so few SDE genes is not that surprising given that very few genes had large changes in expression. "
   ]
  }
 ],
 "metadata": {
  "kernelspec": {
   "display_name": "Python 3",
   "language": "python",
   "name": "python3"
  },
  "language_info": {
   "codemirror_mode": {
    "name": "ipython",
    "version": 3
   },
   "file_extension": ".py",
   "mimetype": "text/x-python",
   "name": "python",
   "nbconvert_exporter": "python",
   "pygments_lexer": "ipython3",
   "version": "3.8.2"
  }
 },
 "nbformat": 4,
 "nbformat_minor": 4
}
